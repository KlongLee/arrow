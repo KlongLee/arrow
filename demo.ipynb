{
 "cells": [
  {
   "cell_type": "code",
   "execution_count": 2,
   "metadata": {},
   "outputs": [
    {
     "data": {
      "text/plain": [
       "[<nanoarrow.c_lib.CArrayView>\n",
       " - storage_type: 'struct'\n",
       " - length: 6\n",
       " - offset: 0\n",
       " - null_count: 0\n",
       " - buffers[1]:\n",
       "   - <bool validity[0 b] >\n",
       " - dictionary: NULL\n",
       " - children[1]:\n",
       "   - <nanoarrow.c_lib.CArrayView>\n",
       "     - storage_type: 'int32'\n",
       "     - length: 6\n",
       "     - offset: 0\n",
       "     - null_count: 0\n",
       "     - buffers[2]:\n",
       "       - <bool validity[1 b] 11111100>\n",
       "       - <int32 data[24 b] 0 1 2 3 4 5>\n",
       "     - dictionary: NULL\n",
       "     - children[0]:]"
      ]
     },
     "execution_count": 2,
     "metadata": {},
     "output_type": "execute_result"
    }
   ],
   "source": [
    "import pyarrow as pa\n",
    "import nanoarrow as na\n",
    "chunked = pa.chunked_array([pa.array([0, 1, 2]), pa.array([3, 4, 5])])\n",
    "table = pa.table([chunked], names=[\"col\"])\n",
    "\n",
    "sch = pa.schema({\"col\": pa.int32()})\n",
    "[na.c_array_view(item) for item in na.c_array_stream(table, sch)]"
   ]
  },
  {
   "cell_type": "code",
   "execution_count": 5,
   "metadata": {},
   "outputs": [
    {
     "data": {
      "text/plain": [
       "<pyarrow.lib.ChunkedArray object at 0x105bb70b0>\n",
       "[\n",
       "  [\n",
       "    0,\n",
       "    1,\n",
       "    2\n",
       "  ],\n",
       "  [\n",
       "    3,\n",
       "    4,\n",
       "    5\n",
       "  ]\n",
       "]"
      ]
     },
     "execution_count": 5,
     "metadata": {},
     "output_type": "execute_result"
    }
   ],
   "source": [
    "stream_capsule = chunked.__arrow_c_stream__()\n",
    "chunked2 = chunked._import_from_c_capsule(stream_capsule)\n",
    "chunked2"
   ]
  }
 ],
 "metadata": {
  "kernelspec": {
   "display_name": ".venv",
   "language": "python",
   "name": "python3"
  },
  "language_info": {
   "codemirror_mode": {
    "name": "ipython",
    "version": 3
   },
   "file_extension": ".py",
   "mimetype": "text/x-python",
   "name": "python",
   "nbconvert_exporter": "python",
   "pygments_lexer": "ipython3",
   "version": "3.12.1"
  }
 },
 "nbformat": 4,
 "nbformat_minor": 2
}
